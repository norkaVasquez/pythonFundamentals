{
 "cells": [
  {
   "cell_type": "code",
   "execution_count": 1,
   "id": "b50d168b",
   "metadata": {},
   "outputs": [
    {
     "ename": "SyntaxError",
     "evalue": "cannot assign to literal (Temp/ipykernel_6920/3293032332.py, line 1)",
     "output_type": "error",
     "traceback": [
      "\u001b[1;36m  File \u001b[1;32m\"C:\\Users\\NORKA~1.VAS\\AppData\\Local\\Temp/ipykernel_6920/3293032332.py\"\u001b[1;36m, line \u001b[1;32m1\u001b[0m\n\u001b[1;33m    1=2\u001b[0m\n\u001b[1;37m    ^\u001b[0m\n\u001b[1;31mSyntaxError\u001b[0m\u001b[1;31m:\u001b[0m cannot assign to literal\n"
     ]
    }
   ],
   "source": [
    "1=2"
   ]
  },
  {
   "cell_type": "code",
   "execution_count": 5,
   "id": "7552c81c",
   "metadata": {},
   "outputs": [],
   "source": [
    "k=2"
   ]
  },
  {
   "cell_type": "code",
   "execution_count": 6,
   "id": "5202ebbc",
   "metadata": {},
   "outputs": [
    {
     "data": {
      "text/plain": [
       "int"
      ]
     },
     "execution_count": 6,
     "metadata": {},
     "output_type": "execute_result"
    }
   ],
   "source": [
    "type(k)"
   ]
  },
  {
   "cell_type": "code",
   "execution_count": 4,
   "id": "4aac20ea",
   "metadata": {},
   "outputs": [],
   "source": [
    "t=[2,3,4,5,6]"
   ]
  },
  {
   "cell_type": "code",
   "execution_count": 7,
   "id": "bc8a670f",
   "metadata": {},
   "outputs": [
    {
     "data": {
      "text/plain": [
       "int"
      ]
     },
     "execution_count": 7,
     "metadata": {},
     "output_type": "execute_result"
    }
   ],
   "source": [
    "type(k)"
   ]
  },
  {
   "cell_type": "code",
   "execution_count": 8,
   "id": "eb80dbaa",
   "metadata": {},
   "outputs": [],
   "source": [
    "tupla=(\"quiero aprobar\",123,5098,False,True)"
   ]
  },
  {
   "cell_type": "code",
   "execution_count": 9,
   "id": "64e82b79",
   "metadata": {},
   "outputs": [
    {
     "ename": "SyntaxError",
     "evalue": "Missing parentheses in call to 'print'. Did you mean print(tupla)? (Temp/ipykernel_6920/2101600029.py, line 1)",
     "output_type": "error",
     "traceback": [
      "\u001b[1;36m  File \u001b[1;32m\"C:\\Users\\NORKA~1.VAS\\AppData\\Local\\Temp/ipykernel_6920/2101600029.py\"\u001b[1;36m, line \u001b[1;32m1\u001b[0m\n\u001b[1;33m    print tupla\u001b[0m\n\u001b[1;37m          ^\u001b[0m\n\u001b[1;31mSyntaxError\u001b[0m\u001b[1;31m:\u001b[0m Missing parentheses in call to 'print'. Did you mean print(tupla)?\n"
     ]
    }
   ],
   "source": [
    "print tupla"
   ]
  },
  {
   "cell_type": "code",
   "execution_count": 10,
   "id": "01c27560",
   "metadata": {},
   "outputs": [
    {
     "data": {
      "text/plain": [
       "('quiero aprobar', 123, 5098, False, True)"
      ]
     },
     "execution_count": 10,
     "metadata": {},
     "output_type": "execute_result"
    }
   ],
   "source": [
    "tupla"
   ]
  },
  {
   "cell_type": "code",
   "execution_count": 11,
   "id": "01488671",
   "metadata": {},
   "outputs": [
    {
     "ename": "SyntaxError",
     "evalue": "invalid syntax (Temp/ipykernel_6920/1461095871.py, line 1)",
     "output_type": "error",
     "traceback": [
      "\u001b[1;36m  File \u001b[1;32m\"C:\\Users\\NORKA~1.VAS\\AppData\\Local\\Temp/ipykernel_6920/1461095871.py\"\u001b[1;36m, line \u001b[1;32m1\u001b[0m\n\u001b[1;33m    type tupla\u001b[0m\n\u001b[1;37m         ^\u001b[0m\n\u001b[1;31mSyntaxError\u001b[0m\u001b[1;31m:\u001b[0m invalid syntax\n"
     ]
    }
   ],
   "source": [
    "type tupla"
   ]
  },
  {
   "cell_type": "code",
   "execution_count": 12,
   "id": "606b7b1c",
   "metadata": {},
   "outputs": [
    {
     "data": {
      "text/plain": [
       "tuple"
      ]
     },
     "execution_count": 12,
     "metadata": {},
     "output_type": "execute_result"
    }
   ],
   "source": [
    "type(tupla)"
   ]
  },
  {
   "cell_type": "code",
   "execution_count": 13,
   "id": "96736d09",
   "metadata": {},
   "outputs": [
    {
     "ename": "NameError",
     "evalue": "name 'Listado' is not defined",
     "output_type": "error",
     "traceback": [
      "\u001b[1;31m---------------------------------------------------------------------------\u001b[0m",
      "\u001b[1;31mNameError\u001b[0m                                 Traceback (most recent call last)",
      "\u001b[1;32mC:\\Users\\NORKA~1.VAS\\AppData\\Local\\Temp/ipykernel_6920/1739568900.py\u001b[0m in \u001b[0;36m<module>\u001b[1;34m\u001b[0m\n\u001b[1;32m----> 1\u001b[1;33m \u001b[0mListado\u001b[0m\u001b[1;33m[\u001b[0m\u001b[1;34m'quiero aprobar'\u001b[0m\u001b[1;33m,\u001b[0m \u001b[1;36m123\u001b[0m\u001b[1;33m,\u001b[0m \u001b[1;36m5098\u001b[0m\u001b[1;33m,\u001b[0m \u001b[1;32mFalse\u001b[0m\u001b[1;33m,\u001b[0m \u001b[1;32mTrue\u001b[0m\u001b[1;33m]\u001b[0m\u001b[1;33m\u001b[0m\u001b[1;33m\u001b[0m\u001b[0m\n\u001b[0m",
      "\u001b[1;31mNameError\u001b[0m: name 'Listado' is not defined"
     ]
    }
   ],
   "source": [
    "Listado['quiero aprobar', 123, 5098, False, True]"
   ]
  },
  {
   "cell_type": "code",
   "execution_count": 14,
   "id": "fa183c8b",
   "metadata": {},
   "outputs": [
    {
     "ename": "TypeError",
     "evalue": "tuple indices must be integers or slices, not tuple",
     "output_type": "error",
     "traceback": [
      "\u001b[1;31m---------------------------------------------------------------------------\u001b[0m",
      "\u001b[1;31mTypeError\u001b[0m                                 Traceback (most recent call last)",
      "\u001b[1;32mC:\\Users\\NORKA~1.VAS\\AppData\\Local\\Temp/ipykernel_6920/3123924262.py\u001b[0m in \u001b[0;36m<module>\u001b[1;34m\u001b[0m\n\u001b[1;32m----> 1\u001b[1;33m \u001b[0mtupla\u001b[0m\u001b[1;33m[\u001b[0m\u001b[1;34m'quiero aprobar'\u001b[0m\u001b[1;33m,\u001b[0m \u001b[1;36m123\u001b[0m\u001b[1;33m,\u001b[0m \u001b[1;36m5098\u001b[0m\u001b[1;33m,\u001b[0m \u001b[1;32mFalse\u001b[0m\u001b[1;33m,\u001b[0m \u001b[1;32mTrue\u001b[0m\u001b[1;33m]\u001b[0m\u001b[1;33m\u001b[0m\u001b[1;33m\u001b[0m\u001b[0m\n\u001b[0m",
      "\u001b[1;31mTypeError\u001b[0m: tuple indices must be integers or slices, not tuple"
     ]
    }
   ],
   "source": [
    "tupla['quiero aprobar', 123, 5098, False, True]"
   ]
  },
  {
   "cell_type": "code",
   "execution_count": 15,
   "id": "e8d54078",
   "metadata": {},
   "outputs": [],
   "source": [
    "Listado=['quiero aprobar', 123, 5098, False, True]"
   ]
  },
  {
   "cell_type": "code",
   "execution_count": 16,
   "id": "dc0fe3bc",
   "metadata": {},
   "outputs": [
    {
     "data": {
      "text/plain": [
       "['quiero aprobar', 123, 5098, False, True]"
      ]
     },
     "execution_count": 16,
     "metadata": {},
     "output_type": "execute_result"
    }
   ],
   "source": [
    "Listado"
   ]
  },
  {
   "cell_type": "code",
   "execution_count": 17,
   "id": "0b8b4874",
   "metadata": {},
   "outputs": [
    {
     "data": {
      "text/plain": [
       "list"
      ]
     },
     "execution_count": 17,
     "metadata": {},
     "output_type": "execute_result"
    }
   ],
   "source": [
    "type(Listado)"
   ]
  },
  {
   "cell_type": "code",
   "execution_count": 18,
   "id": "1ba01b2b",
   "metadata": {},
   "outputs": [
    {
     "ename": "SyntaxError",
     "evalue": "invalid syntax (Temp/ipykernel_6920/488443561.py, line 1)",
     "output_type": "error",
     "traceback": [
      "\u001b[1;36m  File \u001b[1;32m\"C:\\Users\\NORKA~1.VAS\\AppData\\Local\\Temp/ipykernel_6920/488443561.py\"\u001b[1;36m, line \u001b[1;32m1\u001b[0m\n\u001b[1;33m    diccionaro=dict{clave:12345;Listado}\u001b[0m\n\u001b[1;37m                   ^\u001b[0m\n\u001b[1;31mSyntaxError\u001b[0m\u001b[1;31m:\u001b[0m invalid syntax\n"
     ]
    }
   ],
   "source": [
    "diccionaro=dict{clave:12345;Listado}"
   ]
  },
  {
   "cell_type": "code",
   "execution_count": 19,
   "id": "09ba732a",
   "metadata": {},
   "outputs": [
    {
     "ename": "SyntaxError",
     "evalue": "invalid syntax (Temp/ipykernel_6920/2377880543.py, line 1)",
     "output_type": "error",
     "traceback": [
      "\u001b[1;36m  File \u001b[1;32m\"C:\\Users\\NORKA~1.VAS\\AppData\\Local\\Temp/ipykernel_6920/2377880543.py\"\u001b[1;36m, line \u001b[1;32m1\u001b[0m\n\u001b[1;33m    diccionario=dict={clave:12345;Listado}\u001b[0m\n\u001b[1;37m                                 ^\u001b[0m\n\u001b[1;31mSyntaxError\u001b[0m\u001b[1;31m:\u001b[0m invalid syntax\n"
     ]
    }
   ],
   "source": [
    "diccionario=dict={clave:12345;Listado}"
   ]
  },
  {
   "cell_type": "code",
   "execution_count": 20,
   "id": "2a94b322",
   "metadata": {},
   "outputs": [
    {
     "ename": "SyntaxError",
     "evalue": "invalid syntax (Temp/ipykernel_6920/3117372445.py, line 1)",
     "output_type": "error",
     "traceback": [
      "\u001b[1;36m  File \u001b[1;32m\"C:\\Users\\NORKA~1.VAS\\AppData\\Local\\Temp/ipykernel_6920/3117372445.py\"\u001b[1;36m, line \u001b[1;32m1\u001b[0m\n\u001b[1;33m    diccionario{}\u001b[0m\n\u001b[1;37m               ^\u001b[0m\n\u001b[1;31mSyntaxError\u001b[0m\u001b[1;31m:\u001b[0m invalid syntax\n"
     ]
    }
   ],
   "source": [
    "diccionario{}"
   ]
  },
  {
   "cell_type": "code",
   "execution_count": 21,
   "id": "92fd3333",
   "metadata": {},
   "outputs": [],
   "source": [
    "diccionario={}"
   ]
  },
  {
   "cell_type": "code",
   "execution_count": 22,
   "id": "bb7b6e22",
   "metadata": {},
   "outputs": [],
   "source": [
    "diccionario=dict={zip([1,2,3,4,5,],Listado)}"
   ]
  },
  {
   "cell_type": "code",
   "execution_count": null,
   "id": "5c8b457f",
   "metadata": {},
   "outputs": [],
   "source": []
  }
 ],
 "metadata": {
  "kernelspec": {
   "display_name": "Python 3 (ipykernel)",
   "language": "python",
   "name": "python3"
  },
  "language_info": {
   "codemirror_mode": {
    "name": "ipython",
    "version": 3
   },
   "file_extension": ".py",
   "mimetype": "text/x-python",
   "name": "python",
   "nbconvert_exporter": "python",
   "pygments_lexer": "ipython3",
   "version": "3.9.7"
  }
 },
 "nbformat": 4,
 "nbformat_minor": 5
}
